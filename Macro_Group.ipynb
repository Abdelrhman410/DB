{
  "nbformat": 4,
  "nbformat_minor": 0,
  "metadata": {
    "colab": {
      "provenance": [],
      "authorship_tag": "ABX9TyOPYAp6D9TE27WstcqbGcbF",
      "include_colab_link": true
    },
    "kernelspec": {
      "name": "python3",
      "display_name": "Python 3"
    },
    "language_info": {
      "name": "python"
    }
  },
  "cells": [
    {
      "cell_type": "markdown",
      "metadata": {
        "id": "view-in-github",
        "colab_type": "text"
      },
      "source": [
        "<a href=\"https://colab.research.google.com/github/Abdelrhman410/DB/blob/main/Macro_Group.ipynb\" target=\"_parent\"><img src=\"https://colab.research.google.com/assets/colab-badge.svg\" alt=\"Open In Colab\"/></a>"
      ]
    },
    {
      "cell_type": "markdown",
      "source": [
        "#Importing libraries and data"
      ],
      "metadata": {
        "id": "P6xq4iG5tV-I"
      }
    },
    {
      "cell_type": "code",
      "execution_count": null,
      "metadata": {
        "id": "lbsBKY9kyHcE"
      },
      "outputs": [],
      "source": [
        "import pandas as pd\n",
        "import numpy as np\n",
        "import re\n",
        "import matplotlib.pyplot as mp\n",
        "import seaborn as sb"
      ]
    },
    {
      "cell_type": "code",
      "source": [
        "from google.colab import drive\n",
        "\n",
        "drive.mount(\"/content/gdrive\")"
      ],
      "metadata": {
        "colab": {
          "base_uri": "https://localhost:8080/"
        },
        "id": "LHfMKv8VrS95",
        "outputId": "0a1c11fa-8e5a-4ae1-efe6-8e0afb9f2f09"
      },
      "execution_count": null,
      "outputs": [
        {
          "output_type": "stream",
          "name": "stdout",
          "text": [
            "Drive already mounted at /content/gdrive; to attempt to forcibly remount, call drive.mount(\"/content/gdrive\", force_remount=True).\n"
          ]
        }
      ]
    },
    {
      "cell_type": "code",
      "source": [
        "df = pd.read_excel(\"/content/gdrive/My Drive/XXCopy of UC- ORIGINAL MACRO SALES REPORT JAN JULY 2022.xlsx\")"
      ],
      "metadata": {
        "id": "TwFS3IOTq6_w"
      },
      "execution_count": null,
      "outputs": []
    },
    {
      "cell_type": "code",
      "source": [
        "df.head()"
      ],
      "metadata": {
        "colab": {
          "base_uri": "https://localhost:8080/",
          "height": 681
        },
        "id": "qwubpb-frrE1",
        "outputId": "6ca3ca63-c6fd-4b5e-9270-93dff1bade2d"
      },
      "execution_count": null,
      "outputs": [
        {
          "output_type": "execute_result",
          "data": {
            "text/plain": [
              "  DISTRIBUTOR_NAME    Date  IQVIA_CUST_CODE                       NAME  \\\n",
              "0              UCP  202208           100707  عبد الرحمن حسن عبد الرحمن   \n",
              "1              UCP  202208           100707  عبد الرحمن حسن عبد الرحمن   \n",
              "2              UCP  202208           100707  عبد الرحمن حسن عبد الرحمن   \n",
              "3              UCP  202208           100707  عبد الرحمن حسن عبد الرحمن   \n",
              "4          IBNSINA  202208           100707  عبد الرحمن حسن عبد الرحمن   \n",
              "\n",
              "                      Customer Name           STREET    DISTRICT   CITY  \\\n",
              "0  عبد الرحمن حسن عبد الرحمن-100707  ش ميدان الشهداء  دار السلام  سوهاج   \n",
              "1  عبد الرحمن حسن عبد الرحمن-100707  ش ميدان الشهداء  دار السلام  سوهاج   \n",
              "2  عبد الرحمن حسن عبد الرحمن-100707  ش ميدان الشهداء  دار السلام  سوهاج   \n",
              "3  عبد الرحمن حسن عبد الرحمن-100707  ش ميدان الشهداء  دار السلام  سوهاج   \n",
              "4  عبد الرحمن حسن عبد الرحمن-100707  ش ميدان الشهداء  دار السلام  سوهاج   \n",
              "\n",
              "  CMFTYPE MACRO_BRICKS_CODE  ... REP Territory Name District Name   Area Name  \\\n",
              "0    PHAR              B139  ...     M6_South Sohag  M6_U.E south  M6_UE Zone   \n",
              "1    PHAR              B139  ...         OTC_UPE NA   OTC_COUNTRY    OTC AREA   \n",
              "2    PHAR              B139  ...             VACANT        VACANT      VACANT   \n",
              "3    PHAR              B139  ...           M7_Sohag        M7_U.E       M7_NA   \n",
              "4    PHAR              B139  ...     M5_South Sohag  M5_U.E South  M5_UE Zone   \n",
              "\n",
              "  MACRO_REGIONS              MACRO_PROD_DESC    BRAND     LINE SALES_UNITS  \\\n",
              "0   Upper Egypt      Frost Massage Gel 100gm    FROST  MACRO 6           1   \n",
              "1   Upper Egypt             Primo plus 120ml    PRIMO      OTC           2   \n",
              "2   Upper Egypt           Senzo-1 Soap 100gm    SENZO   OTHERS           2   \n",
              "3   Upper Egypt  Synobar Skin cleanser 250ml  SYNOBAR  MACRO 7           1   \n",
              "4   Upper Egypt               Scaro Gel 50gm    SCARO  MACRO 5           1   \n",
              "\n",
              "  BONUS_UNITS  SALES_VALUES  \n",
              "0           0         41.92  \n",
              "1           0         50.30  \n",
              "2           0         50.30  \n",
              "3           0         69.86  \n",
              "4           0        350.30  \n",
              "\n",
              "[5 rows x 22 columns]"
            ],
            "text/html": [
              "\n",
              "  <div id=\"df-cbc32d45-9a15-4313-b8f3-c6f92b4e0d1e\">\n",
              "    <div class=\"colab-df-container\">\n",
              "      <div>\n",
              "<style scoped>\n",
              "    .dataframe tbody tr th:only-of-type {\n",
              "        vertical-align: middle;\n",
              "    }\n",
              "\n",
              "    .dataframe tbody tr th {\n",
              "        vertical-align: top;\n",
              "    }\n",
              "\n",
              "    .dataframe thead th {\n",
              "        text-align: right;\n",
              "    }\n",
              "</style>\n",
              "<table border=\"1\" class=\"dataframe\">\n",
              "  <thead>\n",
              "    <tr style=\"text-align: right;\">\n",
              "      <th></th>\n",
              "      <th>DISTRIBUTOR_NAME</th>\n",
              "      <th>Date</th>\n",
              "      <th>IQVIA_CUST_CODE</th>\n",
              "      <th>NAME</th>\n",
              "      <th>Customer Name</th>\n",
              "      <th>STREET</th>\n",
              "      <th>DISTRICT</th>\n",
              "      <th>CITY</th>\n",
              "      <th>CMFTYPE</th>\n",
              "      <th>MACRO_BRICKS_CODE</th>\n",
              "      <th>...</th>\n",
              "      <th>REP Territory Name</th>\n",
              "      <th>District Name</th>\n",
              "      <th>Area Name</th>\n",
              "      <th>MACRO_REGIONS</th>\n",
              "      <th>MACRO_PROD_DESC</th>\n",
              "      <th>BRAND</th>\n",
              "      <th>LINE</th>\n",
              "      <th>SALES_UNITS</th>\n",
              "      <th>BONUS_UNITS</th>\n",
              "      <th>SALES_VALUES</th>\n",
              "    </tr>\n",
              "  </thead>\n",
              "  <tbody>\n",
              "    <tr>\n",
              "      <th>0</th>\n",
              "      <td>UCP</td>\n",
              "      <td>202208</td>\n",
              "      <td>100707</td>\n",
              "      <td>عبد الرحمن حسن عبد الرحمن</td>\n",
              "      <td>عبد الرحمن حسن عبد الرحمن-100707</td>\n",
              "      <td>ش ميدان الشهداء</td>\n",
              "      <td>دار السلام</td>\n",
              "      <td>سوهاج</td>\n",
              "      <td>PHAR</td>\n",
              "      <td>B139</td>\n",
              "      <td>...</td>\n",
              "      <td>M6_South Sohag</td>\n",
              "      <td>M6_U.E south</td>\n",
              "      <td>M6_UE Zone</td>\n",
              "      <td>Upper Egypt</td>\n",
              "      <td>Frost Massage Gel 100gm</td>\n",
              "      <td>FROST</td>\n",
              "      <td>MACRO 6</td>\n",
              "      <td>1</td>\n",
              "      <td>0</td>\n",
              "      <td>41.92</td>\n",
              "    </tr>\n",
              "    <tr>\n",
              "      <th>1</th>\n",
              "      <td>UCP</td>\n",
              "      <td>202208</td>\n",
              "      <td>100707</td>\n",
              "      <td>عبد الرحمن حسن عبد الرحمن</td>\n",
              "      <td>عبد الرحمن حسن عبد الرحمن-100707</td>\n",
              "      <td>ش ميدان الشهداء</td>\n",
              "      <td>دار السلام</td>\n",
              "      <td>سوهاج</td>\n",
              "      <td>PHAR</td>\n",
              "      <td>B139</td>\n",
              "      <td>...</td>\n",
              "      <td>OTC_UPE NA</td>\n",
              "      <td>OTC_COUNTRY</td>\n",
              "      <td>OTC AREA</td>\n",
              "      <td>Upper Egypt</td>\n",
              "      <td>Primo plus 120ml</td>\n",
              "      <td>PRIMO</td>\n",
              "      <td>OTC</td>\n",
              "      <td>2</td>\n",
              "      <td>0</td>\n",
              "      <td>50.30</td>\n",
              "    </tr>\n",
              "    <tr>\n",
              "      <th>2</th>\n",
              "      <td>UCP</td>\n",
              "      <td>202208</td>\n",
              "      <td>100707</td>\n",
              "      <td>عبد الرحمن حسن عبد الرحمن</td>\n",
              "      <td>عبد الرحمن حسن عبد الرحمن-100707</td>\n",
              "      <td>ش ميدان الشهداء</td>\n",
              "      <td>دار السلام</td>\n",
              "      <td>سوهاج</td>\n",
              "      <td>PHAR</td>\n",
              "      <td>B139</td>\n",
              "      <td>...</td>\n",
              "      <td>VACANT</td>\n",
              "      <td>VACANT</td>\n",
              "      <td>VACANT</td>\n",
              "      <td>Upper Egypt</td>\n",
              "      <td>Senzo-1 Soap 100gm</td>\n",
              "      <td>SENZO</td>\n",
              "      <td>OTHERS</td>\n",
              "      <td>2</td>\n",
              "      <td>0</td>\n",
              "      <td>50.30</td>\n",
              "    </tr>\n",
              "    <tr>\n",
              "      <th>3</th>\n",
              "      <td>UCP</td>\n",
              "      <td>202208</td>\n",
              "      <td>100707</td>\n",
              "      <td>عبد الرحمن حسن عبد الرحمن</td>\n",
              "      <td>عبد الرحمن حسن عبد الرحمن-100707</td>\n",
              "      <td>ش ميدان الشهداء</td>\n",
              "      <td>دار السلام</td>\n",
              "      <td>سوهاج</td>\n",
              "      <td>PHAR</td>\n",
              "      <td>B139</td>\n",
              "      <td>...</td>\n",
              "      <td>M7_Sohag</td>\n",
              "      <td>M7_U.E</td>\n",
              "      <td>M7_NA</td>\n",
              "      <td>Upper Egypt</td>\n",
              "      <td>Synobar Skin cleanser 250ml</td>\n",
              "      <td>SYNOBAR</td>\n",
              "      <td>MACRO 7</td>\n",
              "      <td>1</td>\n",
              "      <td>0</td>\n",
              "      <td>69.86</td>\n",
              "    </tr>\n",
              "    <tr>\n",
              "      <th>4</th>\n",
              "      <td>IBNSINA</td>\n",
              "      <td>202208</td>\n",
              "      <td>100707</td>\n",
              "      <td>عبد الرحمن حسن عبد الرحمن</td>\n",
              "      <td>عبد الرحمن حسن عبد الرحمن-100707</td>\n",
              "      <td>ش ميدان الشهداء</td>\n",
              "      <td>دار السلام</td>\n",
              "      <td>سوهاج</td>\n",
              "      <td>PHAR</td>\n",
              "      <td>B139</td>\n",
              "      <td>...</td>\n",
              "      <td>M5_South Sohag</td>\n",
              "      <td>M5_U.E South</td>\n",
              "      <td>M5_UE Zone</td>\n",
              "      <td>Upper Egypt</td>\n",
              "      <td>Scaro Gel 50gm</td>\n",
              "      <td>SCARO</td>\n",
              "      <td>MACRO 5</td>\n",
              "      <td>1</td>\n",
              "      <td>0</td>\n",
              "      <td>350.30</td>\n",
              "    </tr>\n",
              "  </tbody>\n",
              "</table>\n",
              "<p>5 rows × 22 columns</p>\n",
              "</div>\n",
              "      <button class=\"colab-df-convert\" onclick=\"convertToInteractive('df-cbc32d45-9a15-4313-b8f3-c6f92b4e0d1e')\"\n",
              "              title=\"Convert this dataframe to an interactive table.\"\n",
              "              style=\"display:none;\">\n",
              "        \n",
              "  <svg xmlns=\"http://www.w3.org/2000/svg\" height=\"24px\"viewBox=\"0 0 24 24\"\n",
              "       width=\"24px\">\n",
              "    <path d=\"M0 0h24v24H0V0z\" fill=\"none\"/>\n",
              "    <path d=\"M18.56 5.44l.94 2.06.94-2.06 2.06-.94-2.06-.94-.94-2.06-.94 2.06-2.06.94zm-11 1L8.5 8.5l.94-2.06 2.06-.94-2.06-.94L8.5 2.5l-.94 2.06-2.06.94zm10 10l.94 2.06.94-2.06 2.06-.94-2.06-.94-.94-2.06-.94 2.06-2.06.94z\"/><path d=\"M17.41 7.96l-1.37-1.37c-.4-.4-.92-.59-1.43-.59-.52 0-1.04.2-1.43.59L10.3 9.45l-7.72 7.72c-.78.78-.78 2.05 0 2.83L4 21.41c.39.39.9.59 1.41.59.51 0 1.02-.2 1.41-.59l7.78-7.78 2.81-2.81c.8-.78.8-2.07 0-2.86zM5.41 20L4 18.59l7.72-7.72 1.47 1.35L5.41 20z\"/>\n",
              "  </svg>\n",
              "      </button>\n",
              "      \n",
              "  <style>\n",
              "    .colab-df-container {\n",
              "      display:flex;\n",
              "      flex-wrap:wrap;\n",
              "      gap: 12px;\n",
              "    }\n",
              "\n",
              "    .colab-df-convert {\n",
              "      background-color: #E8F0FE;\n",
              "      border: none;\n",
              "      border-radius: 50%;\n",
              "      cursor: pointer;\n",
              "      display: none;\n",
              "      fill: #1967D2;\n",
              "      height: 32px;\n",
              "      padding: 0 0 0 0;\n",
              "      width: 32px;\n",
              "    }\n",
              "\n",
              "    .colab-df-convert:hover {\n",
              "      background-color: #E2EBFA;\n",
              "      box-shadow: 0px 1px 2px rgba(60, 64, 67, 0.3), 0px 1px 3px 1px rgba(60, 64, 67, 0.15);\n",
              "      fill: #174EA6;\n",
              "    }\n",
              "\n",
              "    [theme=dark] .colab-df-convert {\n",
              "      background-color: #3B4455;\n",
              "      fill: #D2E3FC;\n",
              "    }\n",
              "\n",
              "    [theme=dark] .colab-df-convert:hover {\n",
              "      background-color: #434B5C;\n",
              "      box-shadow: 0px 1px 3px 1px rgba(0, 0, 0, 0.15);\n",
              "      filter: drop-shadow(0px 1px 2px rgba(0, 0, 0, 0.3));\n",
              "      fill: #FFFFFF;\n",
              "    }\n",
              "  </style>\n",
              "\n",
              "      <script>\n",
              "        const buttonEl =\n",
              "          document.querySelector('#df-cbc32d45-9a15-4313-b8f3-c6f92b4e0d1e button.colab-df-convert');\n",
              "        buttonEl.style.display =\n",
              "          google.colab.kernel.accessAllowed ? 'block' : 'none';\n",
              "\n",
              "        async function convertToInteractive(key) {\n",
              "          const element = document.querySelector('#df-cbc32d45-9a15-4313-b8f3-c6f92b4e0d1e');\n",
              "          const dataTable =\n",
              "            await google.colab.kernel.invokeFunction('convertToInteractive',\n",
              "                                                     [key], {});\n",
              "          if (!dataTable) return;\n",
              "\n",
              "          const docLinkHtml = 'Like what you see? Visit the ' +\n",
              "            '<a target=\"_blank\" href=https://colab.research.google.com/notebooks/data_table.ipynb>data table notebook</a>'\n",
              "            + ' to learn more about interactive tables.';\n",
              "          element.innerHTML = '';\n",
              "          dataTable['output_type'] = 'display_data';\n",
              "          await google.colab.output.renderOutput(dataTable, element);\n",
              "          const docLink = document.createElement('div');\n",
              "          docLink.innerHTML = docLinkHtml;\n",
              "          element.appendChild(docLink);\n",
              "        }\n",
              "      </script>\n",
              "    </div>\n",
              "  </div>\n",
              "  "
            ]
          },
          "metadata": {},
          "execution_count": 5
        }
      ]
    },
    {
      "cell_type": "markdown",
      "source": [
        "#Data Wrangling"
      ],
      "metadata": {
        "id": "GvVDwLMftvbO"
      }
    },
    {
      "cell_type": "markdown",
      "source": [
        "###**Questions was given to me by the client and they are :**"
      ],
      "metadata": {
        "id": "SGYoGN3xxYyp"
      }
    },
    {
      "cell_type": "markdown",
      "source": [
        "1. Top  3 lines \n",
        "\n",
        "2. Lowest 3 lines \n",
        "\n",
        "3. Top 10 products\n",
        "\n",
        "4. Lowest 10 products \n",
        "\n",
        "5. Top 5 district managers \n",
        "\n",
        "6. Top 5 medical rep\n",
        "\n",
        "7. Top 5 cities \n",
        "\n",
        "8. Top 5 MACRO_BRICKS_NAME\n",
        "\n",
        "9. Top 5 area name \n",
        "\n",
        "10. Top 3 brand \n",
        "\n",
        "\n",
        "\n"
      ],
      "metadata": {
        "id": "iXWPnSdtx2Cx"
      }
    },
    {
      "cell_type": "markdown",
      "source": [
        "##1. Check duplicates"
      ],
      "metadata": {
        "id": "BTYLcm74t8uY"
      }
    },
    {
      "cell_type": "code",
      "source": [
        "df.duplicated().sum()"
      ],
      "metadata": {
        "colab": {
          "base_uri": "https://localhost:8080/"
        },
        "id": "5iUiC9sAsUrj",
        "outputId": "a3ff20ba-a195-416b-f559-d4a9ab0d52d7"
      },
      "execution_count": null,
      "outputs": [
        {
          "output_type": "execute_result",
          "data": {
            "text/plain": [
              "0"
            ]
          },
          "metadata": {},
          "execution_count": 6
        }
      ]
    },
    {
      "cell_type": "markdown",
      "source": [
        "**Note 1:** No duplicates"
      ],
      "metadata": {
        "id": "fk-NWllfuiTO"
      }
    },
    {
      "cell_type": "markdown",
      "source": [
        "##2. Check coulmn types"
      ],
      "metadata": {
        "id": "LBVXsroiuFbR"
      }
    },
    {
      "cell_type": "code",
      "source": [
        "df.dtypes"
      ],
      "metadata": {
        "colab": {
          "base_uri": "https://localhost:8080/"
        },
        "id": "sHqvF4iFsabm",
        "outputId": "599a2216-57f2-44bf-f737-654b4fe49496"
      },
      "execution_count": null,
      "outputs": [
        {
          "output_type": "execute_result",
          "data": {
            "text/plain": [
              "DISTRIBUTOR_NAME       object\n",
              "Date                    int64\n",
              "IQVIA_CUST_CODE         int64\n",
              "NAME                   object\n",
              "Customer Name          object\n",
              "STREET                 object\n",
              "DISTRICT               object\n",
              "CITY                   object\n",
              "CMFTYPE                object\n",
              "MACRO_BRICKS_CODE      object\n",
              "MACRO_TERRITOTRIES     object\n",
              "MACRO_BRICKS_NAME      object\n",
              "REP Territory Name     object\n",
              "District Name          object\n",
              "Area Name              object\n",
              "MACRO_REGIONS          object\n",
              "MACRO_PROD_DESC        object\n",
              "BRAND                  object\n",
              "LINE                   object\n",
              "SALES_UNITS             int64\n",
              "BONUS_UNITS             int64\n",
              "SALES_VALUES          float64\n",
              "dtype: object"
            ]
          },
          "metadata": {},
          "execution_count": 7
        }
      ]
    },
    {
      "cell_type": "markdown",
      "source": [
        "**Note 2:** Date coulmn needs to be change to date time format"
      ],
      "metadata": {
        "id": "yFXdd89ovHrN"
      }
    },
    {
      "cell_type": "markdown",
      "source": [
        "##3. Check null values"
      ],
      "metadata": {
        "id": "uWquQ6tItMPJ"
      }
    },
    {
      "cell_type": "code",
      "source": [
        "df.isnull().sum()"
      ],
      "metadata": {
        "colab": {
          "base_uri": "https://localhost:8080/"
        },
        "id": "rVjQNWUTs4VC",
        "outputId": "36a106ea-7b9e-4bf4-819c-b8daabfc3d07"
      },
      "execution_count": null,
      "outputs": [
        {
          "output_type": "execute_result",
          "data": {
            "text/plain": [
              "DISTRIBUTOR_NAME      0\n",
              "Date                  0\n",
              "IQVIA_CUST_CODE       0\n",
              "NAME                  0\n",
              "Customer Name         0\n",
              "STREET                0\n",
              "DISTRICT              0\n",
              "CITY                  0\n",
              "CMFTYPE               0\n",
              "MACRO_BRICKS_CODE     0\n",
              "MACRO_TERRITOTRIES    0\n",
              "MACRO_BRICKS_NAME     0\n",
              "REP Territory Name    0\n",
              "District Name         0\n",
              "Area Name             0\n",
              "MACRO_REGIONS         0\n",
              "MACRO_PROD_DESC       0\n",
              "BRAND                 0\n",
              "LINE                  0\n",
              "SALES_UNITS           0\n",
              "BONUS_UNITS           0\n",
              "SALES_VALUES          0\n",
              "dtype: int64"
            ]
          },
          "metadata": {},
          "execution_count": 8
        }
      ]
    },
    {
      "cell_type": "markdown",
      "source": [
        "**Note 3:**  There is no null values"
      ],
      "metadata": {
        "id": "s0p79p4FvXgK"
      }
    },
    {
      "cell_type": "markdown",
      "source": [
        "**Important Note:** I want to thank the data collector, and I hope that every data collector can be like him XDD."
      ],
      "metadata": {
        "id": "tGxEtAeiwKLW"
      }
    },
    {
      "cell_type": "code",
      "source": [
        "df.head(5)"
      ],
      "metadata": {
        "colab": {
          "base_uri": "https://localhost:8080/",
          "height": 681
        },
        "id": "5sOIWmmbz5cj",
        "outputId": "48ee3a04-2d56-4a25-ec3f-1dc9b1ba839c"
      },
      "execution_count": null,
      "outputs": [
        {
          "output_type": "execute_result",
          "data": {
            "text/plain": [
              "  DISTRIBUTOR_NAME    Date  IQVIA_CUST_CODE                       NAME  \\\n",
              "0              UCP  202208           100707  عبد الرحمن حسن عبد الرحمن   \n",
              "1              UCP  202208           100707  عبد الرحمن حسن عبد الرحمن   \n",
              "2              UCP  202208           100707  عبد الرحمن حسن عبد الرحمن   \n",
              "3              UCP  202208           100707  عبد الرحمن حسن عبد الرحمن   \n",
              "4          IBNSINA  202208           100707  عبد الرحمن حسن عبد الرحمن   \n",
              "\n",
              "                      Customer Name           STREET    DISTRICT   CITY  \\\n",
              "0  عبد الرحمن حسن عبد الرحمن-100707  ش ميدان الشهداء  دار السلام  سوهاج   \n",
              "1  عبد الرحمن حسن عبد الرحمن-100707  ش ميدان الشهداء  دار السلام  سوهاج   \n",
              "2  عبد الرحمن حسن عبد الرحمن-100707  ش ميدان الشهداء  دار السلام  سوهاج   \n",
              "3  عبد الرحمن حسن عبد الرحمن-100707  ش ميدان الشهداء  دار السلام  سوهاج   \n",
              "4  عبد الرحمن حسن عبد الرحمن-100707  ش ميدان الشهداء  دار السلام  سوهاج   \n",
              "\n",
              "  CMFTYPE MACRO_BRICKS_CODE  ... REP Territory Name District Name   Area Name  \\\n",
              "0    PHAR              B139  ...     M6_South Sohag  M6_U.E south  M6_UE Zone   \n",
              "1    PHAR              B139  ...         OTC_UPE NA   OTC_COUNTRY    OTC AREA   \n",
              "2    PHAR              B139  ...             VACANT        VACANT      VACANT   \n",
              "3    PHAR              B139  ...           M7_Sohag        M7_U.E       M7_NA   \n",
              "4    PHAR              B139  ...     M5_South Sohag  M5_U.E South  M5_UE Zone   \n",
              "\n",
              "  MACRO_REGIONS              MACRO_PROD_DESC    BRAND     LINE SALES_UNITS  \\\n",
              "0   Upper Egypt      Frost Massage Gel 100gm    FROST  MACRO 6           1   \n",
              "1   Upper Egypt             Primo plus 120ml    PRIMO      OTC           2   \n",
              "2   Upper Egypt           Senzo-1 Soap 100gm    SENZO   OTHERS           2   \n",
              "3   Upper Egypt  Synobar Skin cleanser 250ml  SYNOBAR  MACRO 7           1   \n",
              "4   Upper Egypt               Scaro Gel 50gm    SCARO  MACRO 5           1   \n",
              "\n",
              "  BONUS_UNITS  SALES_VALUES  \n",
              "0           0         41.92  \n",
              "1           0         50.30  \n",
              "2           0         50.30  \n",
              "3           0         69.86  \n",
              "4           0        350.30  \n",
              "\n",
              "[5 rows x 22 columns]"
            ],
            "text/html": [
              "\n",
              "  <div id=\"df-20d830ee-f9f4-4b14-bc9a-741a6e00e7d1\">\n",
              "    <div class=\"colab-df-container\">\n",
              "      <div>\n",
              "<style scoped>\n",
              "    .dataframe tbody tr th:only-of-type {\n",
              "        vertical-align: middle;\n",
              "    }\n",
              "\n",
              "    .dataframe tbody tr th {\n",
              "        vertical-align: top;\n",
              "    }\n",
              "\n",
              "    .dataframe thead th {\n",
              "        text-align: right;\n",
              "    }\n",
              "</style>\n",
              "<table border=\"1\" class=\"dataframe\">\n",
              "  <thead>\n",
              "    <tr style=\"text-align: right;\">\n",
              "      <th></th>\n",
              "      <th>DISTRIBUTOR_NAME</th>\n",
              "      <th>Date</th>\n",
              "      <th>IQVIA_CUST_CODE</th>\n",
              "      <th>NAME</th>\n",
              "      <th>Customer Name</th>\n",
              "      <th>STREET</th>\n",
              "      <th>DISTRICT</th>\n",
              "      <th>CITY</th>\n",
              "      <th>CMFTYPE</th>\n",
              "      <th>MACRO_BRICKS_CODE</th>\n",
              "      <th>...</th>\n",
              "      <th>REP Territory Name</th>\n",
              "      <th>District Name</th>\n",
              "      <th>Area Name</th>\n",
              "      <th>MACRO_REGIONS</th>\n",
              "      <th>MACRO_PROD_DESC</th>\n",
              "      <th>BRAND</th>\n",
              "      <th>LINE</th>\n",
              "      <th>SALES_UNITS</th>\n",
              "      <th>BONUS_UNITS</th>\n",
              "      <th>SALES_VALUES</th>\n",
              "    </tr>\n",
              "  </thead>\n",
              "  <tbody>\n",
              "    <tr>\n",
              "      <th>0</th>\n",
              "      <td>UCP</td>\n",
              "      <td>202208</td>\n",
              "      <td>100707</td>\n",
              "      <td>عبد الرحمن حسن عبد الرحمن</td>\n",
              "      <td>عبد الرحمن حسن عبد الرحمن-100707</td>\n",
              "      <td>ش ميدان الشهداء</td>\n",
              "      <td>دار السلام</td>\n",
              "      <td>سوهاج</td>\n",
              "      <td>PHAR</td>\n",
              "      <td>B139</td>\n",
              "      <td>...</td>\n",
              "      <td>M6_South Sohag</td>\n",
              "      <td>M6_U.E south</td>\n",
              "      <td>M6_UE Zone</td>\n",
              "      <td>Upper Egypt</td>\n",
              "      <td>Frost Massage Gel 100gm</td>\n",
              "      <td>FROST</td>\n",
              "      <td>MACRO 6</td>\n",
              "      <td>1</td>\n",
              "      <td>0</td>\n",
              "      <td>41.92</td>\n",
              "    </tr>\n",
              "    <tr>\n",
              "      <th>1</th>\n",
              "      <td>UCP</td>\n",
              "      <td>202208</td>\n",
              "      <td>100707</td>\n",
              "      <td>عبد الرحمن حسن عبد الرحمن</td>\n",
              "      <td>عبد الرحمن حسن عبد الرحمن-100707</td>\n",
              "      <td>ش ميدان الشهداء</td>\n",
              "      <td>دار السلام</td>\n",
              "      <td>سوهاج</td>\n",
              "      <td>PHAR</td>\n",
              "      <td>B139</td>\n",
              "      <td>...</td>\n",
              "      <td>OTC_UPE NA</td>\n",
              "      <td>OTC_COUNTRY</td>\n",
              "      <td>OTC AREA</td>\n",
              "      <td>Upper Egypt</td>\n",
              "      <td>Primo plus 120ml</td>\n",
              "      <td>PRIMO</td>\n",
              "      <td>OTC</td>\n",
              "      <td>2</td>\n",
              "      <td>0</td>\n",
              "      <td>50.30</td>\n",
              "    </tr>\n",
              "    <tr>\n",
              "      <th>2</th>\n",
              "      <td>UCP</td>\n",
              "      <td>202208</td>\n",
              "      <td>100707</td>\n",
              "      <td>عبد الرحمن حسن عبد الرحمن</td>\n",
              "      <td>عبد الرحمن حسن عبد الرحمن-100707</td>\n",
              "      <td>ش ميدان الشهداء</td>\n",
              "      <td>دار السلام</td>\n",
              "      <td>سوهاج</td>\n",
              "      <td>PHAR</td>\n",
              "      <td>B139</td>\n",
              "      <td>...</td>\n",
              "      <td>VACANT</td>\n",
              "      <td>VACANT</td>\n",
              "      <td>VACANT</td>\n",
              "      <td>Upper Egypt</td>\n",
              "      <td>Senzo-1 Soap 100gm</td>\n",
              "      <td>SENZO</td>\n",
              "      <td>OTHERS</td>\n",
              "      <td>2</td>\n",
              "      <td>0</td>\n",
              "      <td>50.30</td>\n",
              "    </tr>\n",
              "    <tr>\n",
              "      <th>3</th>\n",
              "      <td>UCP</td>\n",
              "      <td>202208</td>\n",
              "      <td>100707</td>\n",
              "      <td>عبد الرحمن حسن عبد الرحمن</td>\n",
              "      <td>عبد الرحمن حسن عبد الرحمن-100707</td>\n",
              "      <td>ش ميدان الشهداء</td>\n",
              "      <td>دار السلام</td>\n",
              "      <td>سوهاج</td>\n",
              "      <td>PHAR</td>\n",
              "      <td>B139</td>\n",
              "      <td>...</td>\n",
              "      <td>M7_Sohag</td>\n",
              "      <td>M7_U.E</td>\n",
              "      <td>M7_NA</td>\n",
              "      <td>Upper Egypt</td>\n",
              "      <td>Synobar Skin cleanser 250ml</td>\n",
              "      <td>SYNOBAR</td>\n",
              "      <td>MACRO 7</td>\n",
              "      <td>1</td>\n",
              "      <td>0</td>\n",
              "      <td>69.86</td>\n",
              "    </tr>\n",
              "    <tr>\n",
              "      <th>4</th>\n",
              "      <td>IBNSINA</td>\n",
              "      <td>202208</td>\n",
              "      <td>100707</td>\n",
              "      <td>عبد الرحمن حسن عبد الرحمن</td>\n",
              "      <td>عبد الرحمن حسن عبد الرحمن-100707</td>\n",
              "      <td>ش ميدان الشهداء</td>\n",
              "      <td>دار السلام</td>\n",
              "      <td>سوهاج</td>\n",
              "      <td>PHAR</td>\n",
              "      <td>B139</td>\n",
              "      <td>...</td>\n",
              "      <td>M5_South Sohag</td>\n",
              "      <td>M5_U.E South</td>\n",
              "      <td>M5_UE Zone</td>\n",
              "      <td>Upper Egypt</td>\n",
              "      <td>Scaro Gel 50gm</td>\n",
              "      <td>SCARO</td>\n",
              "      <td>MACRO 5</td>\n",
              "      <td>1</td>\n",
              "      <td>0</td>\n",
              "      <td>350.30</td>\n",
              "    </tr>\n",
              "  </tbody>\n",
              "</table>\n",
              "<p>5 rows × 22 columns</p>\n",
              "</div>\n",
              "      <button class=\"colab-df-convert\" onclick=\"convertToInteractive('df-20d830ee-f9f4-4b14-bc9a-741a6e00e7d1')\"\n",
              "              title=\"Convert this dataframe to an interactive table.\"\n",
              "              style=\"display:none;\">\n",
              "        \n",
              "  <svg xmlns=\"http://www.w3.org/2000/svg\" height=\"24px\"viewBox=\"0 0 24 24\"\n",
              "       width=\"24px\">\n",
              "    <path d=\"M0 0h24v24H0V0z\" fill=\"none\"/>\n",
              "    <path d=\"M18.56 5.44l.94 2.06.94-2.06 2.06-.94-2.06-.94-.94-2.06-.94 2.06-2.06.94zm-11 1L8.5 8.5l.94-2.06 2.06-.94-2.06-.94L8.5 2.5l-.94 2.06-2.06.94zm10 10l.94 2.06.94-2.06 2.06-.94-2.06-.94-.94-2.06-.94 2.06-2.06.94z\"/><path d=\"M17.41 7.96l-1.37-1.37c-.4-.4-.92-.59-1.43-.59-.52 0-1.04.2-1.43.59L10.3 9.45l-7.72 7.72c-.78.78-.78 2.05 0 2.83L4 21.41c.39.39.9.59 1.41.59.51 0 1.02-.2 1.41-.59l7.78-7.78 2.81-2.81c.8-.78.8-2.07 0-2.86zM5.41 20L4 18.59l7.72-7.72 1.47 1.35L5.41 20z\"/>\n",
              "  </svg>\n",
              "      </button>\n",
              "      \n",
              "  <style>\n",
              "    .colab-df-container {\n",
              "      display:flex;\n",
              "      flex-wrap:wrap;\n",
              "      gap: 12px;\n",
              "    }\n",
              "\n",
              "    .colab-df-convert {\n",
              "      background-color: #E8F0FE;\n",
              "      border: none;\n",
              "      border-radius: 50%;\n",
              "      cursor: pointer;\n",
              "      display: none;\n",
              "      fill: #1967D2;\n",
              "      height: 32px;\n",
              "      padding: 0 0 0 0;\n",
              "      width: 32px;\n",
              "    }\n",
              "\n",
              "    .colab-df-convert:hover {\n",
              "      background-color: #E2EBFA;\n",
              "      box-shadow: 0px 1px 2px rgba(60, 64, 67, 0.3), 0px 1px 3px 1px rgba(60, 64, 67, 0.15);\n",
              "      fill: #174EA6;\n",
              "    }\n",
              "\n",
              "    [theme=dark] .colab-df-convert {\n",
              "      background-color: #3B4455;\n",
              "      fill: #D2E3FC;\n",
              "    }\n",
              "\n",
              "    [theme=dark] .colab-df-convert:hover {\n",
              "      background-color: #434B5C;\n",
              "      box-shadow: 0px 1px 3px 1px rgba(0, 0, 0, 0.15);\n",
              "      filter: drop-shadow(0px 1px 2px rgba(0, 0, 0, 0.3));\n",
              "      fill: #FFFFFF;\n",
              "    }\n",
              "  </style>\n",
              "\n",
              "      <script>\n",
              "        const buttonEl =\n",
              "          document.querySelector('#df-20d830ee-f9f4-4b14-bc9a-741a6e00e7d1 button.colab-df-convert');\n",
              "        buttonEl.style.display =\n",
              "          google.colab.kernel.accessAllowed ? 'block' : 'none';\n",
              "\n",
              "        async function convertToInteractive(key) {\n",
              "          const element = document.querySelector('#df-20d830ee-f9f4-4b14-bc9a-741a6e00e7d1');\n",
              "          const dataTable =\n",
              "            await google.colab.kernel.invokeFunction('convertToInteractive',\n",
              "                                                     [key], {});\n",
              "          if (!dataTable) return;\n",
              "\n",
              "          const docLinkHtml = 'Like what you see? Visit the ' +\n",
              "            '<a target=\"_blank\" href=https://colab.research.google.com/notebooks/data_table.ipynb>data table notebook</a>'\n",
              "            + ' to learn more about interactive tables.';\n",
              "          element.innerHTML = '';\n",
              "          dataTable['output_type'] = 'display_data';\n",
              "          await google.colab.output.renderOutput(dataTable, element);\n",
              "          const docLink = document.createElement('div');\n",
              "          docLink.innerHTML = docLinkHtml;\n",
              "          element.appendChild(docLink);\n",
              "        }\n",
              "      </script>\n",
              "    </div>\n",
              "  </div>\n",
              "  "
            ]
          },
          "metadata": {},
          "execution_count": 9
        }
      ]
    },
    {
      "cell_type": "markdown",
      "source": [
        "**Total Notes:**\n",
        "\n",
        "1. No duplicates\n",
        "2. Date coulmn needs to be change to date time format\n",
        "3. There is no null valuesfds\n",
        "4. Depending on the client questions I found that I will not use these coulmns \" DISTRIBUTOR_NAME, Date, Iqvia cust code, name, Customer name, street, city, cmftype, macro bricks code, rep territory name, MACRO_TERRITOTRIES\" so i will drop them"
      ],
      "metadata": {
        "id": "mQSLOgaHywjf"
      }
    },
    {
      "cell_type": "code",
      "source": [
        "df.drop(['DISTRIBUTOR_NAME','Date', 'IQVIA_CUST_CODE', 'NAME', 'Customer Name', 'STREET', 'DISTRICT', 'CMFTYPE', 'MACRO_BRICKS_CODE', 'MACRO_TERRITOTRIES'],  axis=1, inplace=True)"
      ],
      "metadata": {
        "id": "C0JPlYACidQ5"
      },
      "execution_count": null,
      "outputs": []
    },
    {
      "cell_type": "code",
      "source": [
        "df.head()"
      ],
      "metadata": {
        "colab": {
          "base_uri": "https://localhost:8080/",
          "height": 206
        },
        "id": "Bezm3ueRjZgR",
        "outputId": "90d0087e-9d13-4cdd-a3a9-7e91b7d3e9ee"
      },
      "execution_count": null,
      "outputs": [
        {
          "output_type": "execute_result",
          "data": {
            "text/plain": [
              "    CITY MACRO_BRICKS_NAME REP Territory Name District Name   Area Name  \\\n",
              "0  سوهاج           Sohag 3     M6_South Sohag  M6_U.E south  M6_UE Zone   \n",
              "1  سوهاج           Sohag 3         OTC_UPE NA   OTC_COUNTRY    OTC AREA   \n",
              "2  سوهاج           Sohag 3             VACANT        VACANT      VACANT   \n",
              "3  سوهاج           Sohag 3           M7_Sohag        M7_U.E       M7_NA   \n",
              "4  سوهاج           Sohag 3     M5_South Sohag  M5_U.E South  M5_UE Zone   \n",
              "\n",
              "  MACRO_REGIONS              MACRO_PROD_DESC    BRAND     LINE  SALES_UNITS  \\\n",
              "0   Upper Egypt      Frost Massage Gel 100gm    FROST  MACRO 6            1   \n",
              "1   Upper Egypt             Primo plus 120ml    PRIMO      OTC            2   \n",
              "2   Upper Egypt           Senzo-1 Soap 100gm    SENZO   OTHERS            2   \n",
              "3   Upper Egypt  Synobar Skin cleanser 250ml  SYNOBAR  MACRO 7            1   \n",
              "4   Upper Egypt               Scaro Gel 50gm    SCARO  MACRO 5            1   \n",
              "\n",
              "   BONUS_UNITS  SALES_VALUES  \n",
              "0            0         41.92  \n",
              "1            0         50.30  \n",
              "2            0         50.30  \n",
              "3            0         69.86  \n",
              "4            0        350.30  "
            ],
            "text/html": [
              "\n",
              "  <div id=\"df-d391804d-6cfd-49c2-88a2-d3e73293eb87\">\n",
              "    <div class=\"colab-df-container\">\n",
              "      <div>\n",
              "<style scoped>\n",
              "    .dataframe tbody tr th:only-of-type {\n",
              "        vertical-align: middle;\n",
              "    }\n",
              "\n",
              "    .dataframe tbody tr th {\n",
              "        vertical-align: top;\n",
              "    }\n",
              "\n",
              "    .dataframe thead th {\n",
              "        text-align: right;\n",
              "    }\n",
              "</style>\n",
              "<table border=\"1\" class=\"dataframe\">\n",
              "  <thead>\n",
              "    <tr style=\"text-align: right;\">\n",
              "      <th></th>\n",
              "      <th>CITY</th>\n",
              "      <th>MACRO_BRICKS_NAME</th>\n",
              "      <th>REP Territory Name</th>\n",
              "      <th>District Name</th>\n",
              "      <th>Area Name</th>\n",
              "      <th>MACRO_REGIONS</th>\n",
              "      <th>MACRO_PROD_DESC</th>\n",
              "      <th>BRAND</th>\n",
              "      <th>LINE</th>\n",
              "      <th>SALES_UNITS</th>\n",
              "      <th>BONUS_UNITS</th>\n",
              "      <th>SALES_VALUES</th>\n",
              "    </tr>\n",
              "  </thead>\n",
              "  <tbody>\n",
              "    <tr>\n",
              "      <th>0</th>\n",
              "      <td>سوهاج</td>\n",
              "      <td>Sohag 3</td>\n",
              "      <td>M6_South Sohag</td>\n",
              "      <td>M6_U.E south</td>\n",
              "      <td>M6_UE Zone</td>\n",
              "      <td>Upper Egypt</td>\n",
              "      <td>Frost Massage Gel 100gm</td>\n",
              "      <td>FROST</td>\n",
              "      <td>MACRO 6</td>\n",
              "      <td>1</td>\n",
              "      <td>0</td>\n",
              "      <td>41.92</td>\n",
              "    </tr>\n",
              "    <tr>\n",
              "      <th>1</th>\n",
              "      <td>سوهاج</td>\n",
              "      <td>Sohag 3</td>\n",
              "      <td>OTC_UPE NA</td>\n",
              "      <td>OTC_COUNTRY</td>\n",
              "      <td>OTC AREA</td>\n",
              "      <td>Upper Egypt</td>\n",
              "      <td>Primo plus 120ml</td>\n",
              "      <td>PRIMO</td>\n",
              "      <td>OTC</td>\n",
              "      <td>2</td>\n",
              "      <td>0</td>\n",
              "      <td>50.30</td>\n",
              "    </tr>\n",
              "    <tr>\n",
              "      <th>2</th>\n",
              "      <td>سوهاج</td>\n",
              "      <td>Sohag 3</td>\n",
              "      <td>VACANT</td>\n",
              "      <td>VACANT</td>\n",
              "      <td>VACANT</td>\n",
              "      <td>Upper Egypt</td>\n",
              "      <td>Senzo-1 Soap 100gm</td>\n",
              "      <td>SENZO</td>\n",
              "      <td>OTHERS</td>\n",
              "      <td>2</td>\n",
              "      <td>0</td>\n",
              "      <td>50.30</td>\n",
              "    </tr>\n",
              "    <tr>\n",
              "      <th>3</th>\n",
              "      <td>سوهاج</td>\n",
              "      <td>Sohag 3</td>\n",
              "      <td>M7_Sohag</td>\n",
              "      <td>M7_U.E</td>\n",
              "      <td>M7_NA</td>\n",
              "      <td>Upper Egypt</td>\n",
              "      <td>Synobar Skin cleanser 250ml</td>\n",
              "      <td>SYNOBAR</td>\n",
              "      <td>MACRO 7</td>\n",
              "      <td>1</td>\n",
              "      <td>0</td>\n",
              "      <td>69.86</td>\n",
              "    </tr>\n",
              "    <tr>\n",
              "      <th>4</th>\n",
              "      <td>سوهاج</td>\n",
              "      <td>Sohag 3</td>\n",
              "      <td>M5_South Sohag</td>\n",
              "      <td>M5_U.E South</td>\n",
              "      <td>M5_UE Zone</td>\n",
              "      <td>Upper Egypt</td>\n",
              "      <td>Scaro Gel 50gm</td>\n",
              "      <td>SCARO</td>\n",
              "      <td>MACRO 5</td>\n",
              "      <td>1</td>\n",
              "      <td>0</td>\n",
              "      <td>350.30</td>\n",
              "    </tr>\n",
              "  </tbody>\n",
              "</table>\n",
              "</div>\n",
              "      <button class=\"colab-df-convert\" onclick=\"convertToInteractive('df-d391804d-6cfd-49c2-88a2-d3e73293eb87')\"\n",
              "              title=\"Convert this dataframe to an interactive table.\"\n",
              "              style=\"display:none;\">\n",
              "        \n",
              "  <svg xmlns=\"http://www.w3.org/2000/svg\" height=\"24px\"viewBox=\"0 0 24 24\"\n",
              "       width=\"24px\">\n",
              "    <path d=\"M0 0h24v24H0V0z\" fill=\"none\"/>\n",
              "    <path d=\"M18.56 5.44l.94 2.06.94-2.06 2.06-.94-2.06-.94-.94-2.06-.94 2.06-2.06.94zm-11 1L8.5 8.5l.94-2.06 2.06-.94-2.06-.94L8.5 2.5l-.94 2.06-2.06.94zm10 10l.94 2.06.94-2.06 2.06-.94-2.06-.94-.94-2.06-.94 2.06-2.06.94z\"/><path d=\"M17.41 7.96l-1.37-1.37c-.4-.4-.92-.59-1.43-.59-.52 0-1.04.2-1.43.59L10.3 9.45l-7.72 7.72c-.78.78-.78 2.05 0 2.83L4 21.41c.39.39.9.59 1.41.59.51 0 1.02-.2 1.41-.59l7.78-7.78 2.81-2.81c.8-.78.8-2.07 0-2.86zM5.41 20L4 18.59l7.72-7.72 1.47 1.35L5.41 20z\"/>\n",
              "  </svg>\n",
              "      </button>\n",
              "      \n",
              "  <style>\n",
              "    .colab-df-container {\n",
              "      display:flex;\n",
              "      flex-wrap:wrap;\n",
              "      gap: 12px;\n",
              "    }\n",
              "\n",
              "    .colab-df-convert {\n",
              "      background-color: #E8F0FE;\n",
              "      border: none;\n",
              "      border-radius: 50%;\n",
              "      cursor: pointer;\n",
              "      display: none;\n",
              "      fill: #1967D2;\n",
              "      height: 32px;\n",
              "      padding: 0 0 0 0;\n",
              "      width: 32px;\n",
              "    }\n",
              "\n",
              "    .colab-df-convert:hover {\n",
              "      background-color: #E2EBFA;\n",
              "      box-shadow: 0px 1px 2px rgba(60, 64, 67, 0.3), 0px 1px 3px 1px rgba(60, 64, 67, 0.15);\n",
              "      fill: #174EA6;\n",
              "    }\n",
              "\n",
              "    [theme=dark] .colab-df-convert {\n",
              "      background-color: #3B4455;\n",
              "      fill: #D2E3FC;\n",
              "    }\n",
              "\n",
              "    [theme=dark] .colab-df-convert:hover {\n",
              "      background-color: #434B5C;\n",
              "      box-shadow: 0px 1px 3px 1px rgba(0, 0, 0, 0.15);\n",
              "      filter: drop-shadow(0px 1px 2px rgba(0, 0, 0, 0.3));\n",
              "      fill: #FFFFFF;\n",
              "    }\n",
              "  </style>\n",
              "\n",
              "      <script>\n",
              "        const buttonEl =\n",
              "          document.querySelector('#df-d391804d-6cfd-49c2-88a2-d3e73293eb87 button.colab-df-convert');\n",
              "        buttonEl.style.display =\n",
              "          google.colab.kernel.accessAllowed ? 'block' : 'none';\n",
              "\n",
              "        async function convertToInteractive(key) {\n",
              "          const element = document.querySelector('#df-d391804d-6cfd-49c2-88a2-d3e73293eb87');\n",
              "          const dataTable =\n",
              "            await google.colab.kernel.invokeFunction('convertToInteractive',\n",
              "                                                     [key], {});\n",
              "          if (!dataTable) return;\n",
              "\n",
              "          const docLinkHtml = 'Like what you see? Visit the ' +\n",
              "            '<a target=\"_blank\" href=https://colab.research.google.com/notebooks/data_table.ipynb>data table notebook</a>'\n",
              "            + ' to learn more about interactive tables.';\n",
              "          element.innerHTML = '';\n",
              "          dataTable['output_type'] = 'display_data';\n",
              "          await google.colab.output.renderOutput(dataTable, element);\n",
              "          const docLink = document.createElement('div');\n",
              "          docLink.innerHTML = docLinkHtml;\n",
              "          element.appendChild(docLink);\n",
              "        }\n",
              "      </script>\n",
              "    </div>\n",
              "  </div>\n",
              "  "
            ]
          },
          "metadata": {},
          "execution_count": 11
        }
      ]
    },
    {
      "cell_type": "markdown",
      "source": [
        "#Analyze Data"
      ],
      "metadata": {
        "id": "THcpbQCNlKOf"
      }
    },
    {
      "cell_type": "code",
      "source": [
        "df = df [df['LINE']!=\"غير معروف\" ]"
      ],
      "metadata": {
        "id": "PKnCZ2obrrh7"
      },
      "execution_count": null,
      "outputs": []
    },
    {
      "cell_type": "code",
      "source": [
        "Lines = {}\n",
        "\n",
        "for Line in df[\"LINE\"]:  \n",
        "  if Line not in Lines:\n",
        "    filtered_Sales = df[df['LINE']== Line ][\"SALES_VALUES\"].sum()\n",
        "    Lines[Line] = filtered_Sales"
      ],
      "metadata": {
        "id": "4U4i2qHilS2S"
      },
      "execution_count": null,
      "outputs": []
    },
    {
      "cell_type": "code",
      "source": [
        "sort_data = sorted(Lines.items(), key=lambda x: x[1], reverse=True)\n",
        "sort_data_dict = dict(sort_data)\n",
        "print(sort_data_dict)"
      ],
      "metadata": {
        "colab": {
          "base_uri": "https://localhost:8080/"
        },
        "id": "Z6DzF8E4oZ2w",
        "outputId": "1e61fecd-0e46-4ab6-be3e-e1faa7a5b30b"
      },
      "execution_count": null,
      "outputs": [
        {
          "output_type": "stream",
          "name": "stdout",
          "text": [
            "{'MACRO 1': 11921951.080000002, 'MACRO 2': 11388801.299999999, 'OTC': 9200660.693999998, 'MACRO 5': 8649952.91, 'MACRO 4': 7752972.189, 'MACRO 7': 7097652.1, 'MACRO 6': 5846212.47, 'MACRO 3': 5390783.95, 'OTHERS': 1548106.6199999999, 'VERDEX': 1497507.33, 'ATRAKTA': 1440565.6600000001, 'SOLODEX': 946265.7499999999}\n"
          ]
        }
      ]
    },
    {
      "cell_type": "code",
      "source": [
        "for i in range (3):\n",
        "  print(list(sort_data_dict.items())[i])"
      ],
      "metadata": {
        "colab": {
          "base_uri": "https://localhost:8080/"
        },
        "id": "dZsUZA-NpXAB",
        "outputId": "169606e4-56a9-41ad-b5df-5f69ac9ebeb2"
      },
      "execution_count": null,
      "outputs": [
        {
          "output_type": "stream",
          "name": "stdout",
          "text": [
            "('MACRO 1', 11921951.080000002)\n",
            "('MACRO 2', 11388801.299999999)\n",
            "('OTC', 9200660.693999998)\n"
          ]
        }
      ]
    },
    {
      "cell_type": "code",
      "source": [
        "for i in range (-3,0):\n",
        "  print(list(sort_data_dict.items())[i])"
      ],
      "metadata": {
        "colab": {
          "base_uri": "https://localhost:8080/"
        },
        "id": "S-QwH9WizGRS",
        "outputId": "0c7731b9-93d7-40ec-902e-0ea4012ee069"
      },
      "execution_count": null,
      "outputs": [
        {
          "output_type": "stream",
          "name": "stdout",
          "text": [
            "('VERDEX', 1497507.33)\n",
            "('ATRAKTA', 1440565.6600000001)\n",
            "('SOLODEX', 946265.7499999999)\n"
          ]
        }
      ]
    },
    {
      "cell_type": "markdown",
      "source": [
        "#**$\\color{skyblue}{\\text{Top 3 lines}}$**\n",
        "\"MACRO 1\" => 11921951.08 revenue\n",
        "\n",
        "\"MACRO 2\" => 11388801.3 revenue\n",
        "\n",
        "\"OTC\" =>  9200660.69 revenue\n",
        "\n",
        "\n",
        "\n",
        "---\n",
        "\n",
        "\n",
        "\n",
        " "
      ],
      "metadata": {
        "id": "fVkJ22ym1gdV"
      }
    },
    {
      "cell_type": "markdown",
      "source": [
        "#**$\\color{skyblue}{\\text{Lowest 3 lines}}$**\n",
        "\"SOLODEX\"=> 946265.75 revenue\n",
        "\n",
        "\"ATRAKTA\"=> 1440565.66 revenue\n",
        "\n",
        "\"VERDEX\"=> 1497507.33 revenue\n",
        "\n",
        "---\n",
        "\n"
      ],
      "metadata": {
        "id": "2a2icsAN3mBH"
      }
    },
    {
      "cell_type": "code",
      "source": [
        "print(df.columns.tolist())"
      ],
      "metadata": {
        "colab": {
          "base_uri": "https://localhost:8080/"
        },
        "id": "15JPj5mS79bx",
        "outputId": "45d936d5-1e66-416a-f28f-71b82ff1d69d"
      },
      "execution_count": null,
      "outputs": [
        {
          "output_type": "stream",
          "name": "stdout",
          "text": [
            "['CITY', 'MACRO_BRICKS_NAME', 'REP Territory Name', 'District Name', 'Area Name', 'MACRO_REGIONS', 'MACRO_PROD_DESC', 'BRAND', 'LINE', 'SALES_UNITS', 'BONUS_UNITS', 'SALES_VALUES']\n"
          ]
        }
      ]
    },
    {
      "cell_type": "code",
      "source": [
        "Products = {}\n",
        "\n",
        "for Product in df[\"MACRO_PROD_DESC\"]:  \n",
        "  if Product not in Products:\n",
        "    filtered_Sales = df[df['MACRO_PROD_DESC']== Product ][\"SALES_VALUES\"].sum()\n",
        "    Products[Product] = filtered_Sales"
      ],
      "metadata": {
        "id": "HOhG9d-V57Km"
      },
      "execution_count": null,
      "outputs": []
    },
    {
      "cell_type": "code",
      "source": [
        "sort_data = sorted(Products.items(), key=lambda x: x[1], reverse=True)\n",
        "sort_data_dict = dict(sort_data)\n",
        "print(sort_data_dict)"
      ],
      "metadata": {
        "colab": {
          "base_uri": "https://localhost:8080/"
        },
        "id": "h8kgad7U9eFT",
        "outputId": "2a6b8912-f007-4d56-9c73-84367bfae9c9"
      },
      "execution_count": null,
      "outputs": [
        {
          "output_type": "stream",
          "name": "stdout",
          "text": [
            "{'Orovex Peppermint 250ml': 5001567.81, 'Gold Plus Cleanser 250ml': 3937879.9700000007, 'Scaro Gel 50gm': 3346304.41, 'Frost Massage Spray 100ml': 2717577.08, 'Synobar Skin cleanser 250ml': 2679505.59, 'Orovex Clove 250ml': 2183120.55, 'Dermocalm Lotion 120ml': 2142031.97, 'Bringo Lotion 120ml': 2133319.46, 'Natry Soap 100gm': 1913797.6099999999, 'Care by Care Cream 100gm': 1847981.21, 'Vividol Hair Cream 100gm': 1815802.57, 'Macro Panthenol Cream 50gm': 1806471.65, 'Lit up Soap 100gm': 1665118.88, 'Frost Massage Gel 100gm': 1659670.6099999999, 'Revarest Plus Cleanser 250ml': 1588404.5599999998, 'Scaro Plus Cream 50gm': 1505269.8499999999, 'Mondo Cream 50gm': 1451558.98, 'Cordo Plus Spray 60 ml': 1362092.3190000001, 'Topi Gent Sebum Foam 150ml': 1332006.6099999999, 'Seroleze Hair Serum 120ml': 1288627.84, 'Klenva Cleanser 250ml': 1153406.32, 'Tritect Acne soap 100gm': 1094247.5599999998, 'Topi Gent Delicate Foam 150ml': 1086723.3900000001, 'Synobar Soap 100 gm': 1016132.26, 'Marvel Cream 100gm': 1003913.3800000001, 'Avetrix Gel 100gm': 944598.54, 'Orovex Delicate 250ml': 932147.8999999999, 'Orovex-H 150ml': 924624.13, 'Orovex Orange 250ml': 876286.3900000001, 'Revi 2 Cream 50gm': 850801.0199999998, 'Natry Facial Cleanser 250ml': 850064.0800000001, 'Nataria Cream 50gm': 848790.95, 'Lit up Cream 50gm': 827296.0199999999, 'Orovex Green Apple 250ml': 803524.0700000001, 'Tritect Baby Soap 100gm': 771500.3200000001, 'Care by Care cream plus 100gm': 768138.2499999999, 'Vano Cream 50gm': 654998.94, 'Lindo Hair Oil 250ml': 634696.3800000001, 'Atrakta Re-Force Hair Ampoules': 627121.8500000001, 'Gold Fem Foam': 574511.27, 'Primo plus 120ml': 562481.5800000001, 'Verdol Cleanser 250ml': 561929.89, 'Tress Hair oil 250ml': 514152.47000000003, 'Silicar Skin Serum 50 gm': 493734.8300000001, 'Lit up Cleanser 200ml': 478968.92999999993, 'Prote Care Cream 100gm': 399699.09699999995, 'Fitt Bar soap 100gm': 393362.29, 'Rego Cream 100gm': 387505.9199999999, 'Verdex Prime - Hair Forte Ampoules 12 fl*5ml': 381695.68, 'Tress Follicle Booster Lotion 60ml': 358920.05999999994, 'Senzo-1 Soap 100gm': 357610.51, 'Verdex prime - Eye Contour Aid serum 15 ml': 328742.8, 'O- Pedal Hair Spray 120ml': 295772.54, 'Orovex Strawberry 250ml': 291695.89, 'Synobar-S Soap 100gm': 286394.44000000006, 'Atrakta RE-Force Hair Serum': 285721.67, 'VIVIDOL PERFECTA 250': 270561.63, 'Tritect Antiseptic Soap 100gm': 261263.067, 'Tress Hair oil 120ml': 258148.74, 'Rego Hair Shampoo 250ml': 241188.68999999997, 'VIVIDOL PERFECTA 120': 240802.51, 'Macro Carbamide 50gm': 227957.05999999997, 'Verdex prime - Hair Forte Lotion 200 ml': 208707.02000000005, 'Lindo Hair Oil 120ml': 206904.14, 'Orovex Banana 250ml': 197809.47, 'Lactoherb': 193993.77, 'Solodex Roots Vials (8 vials x 7ml)': 192301.71000000002, 'Solodex Exfolear Spray 120ml': 184245.91999999998, 'Verdex prime - Alba cream 50 ml': 172229.22999999998, 'Verdex prime - Alba serum 30 ml': 165834.68, 'Zerol Cream 40gm': 142194.51000000004, 'Solodex Roots Lotion 60ml': 128501.68, 'Atrakta post epilation': 124886.70999999999, 'Synobar Brush 150ml': 119503.64, 'Peano Balm 30gm': 116984.27, 'OROVEX MISWAK': 115828.09, 'Atrakta Dandr-Off Hair Shampoo': 105905.52, 'Solodex Roots Elixir 60ml': 96771.08, 'Cordo-C Spray 60 ml': 94892.58000000002, 'Atrakta Re-Force Hair Shampoo': 90841.11, 'Gold Lightening Foam': 84479.35999999997, 'Quella cream 100gm': 81900.69, 'Prote Care Shampoo 190ml': 80719.04999999999, 'Rego Hair Lotion 250ml': 77323.18, 'Verdex prime - Topica Cream 100 gm': 76417.48000000003, 'Scaro Spray 60ml': 75050.11, 'Solodex Roots Cream 120ml': 71644.19, 'Atrakta Dandr-Off Hair Mask': 70989.42000000001, 'Atrakta Bi phase spray': 65979.83999999998, 'Verdex prime - Sypo Clear topical serum 50 ml': 60761.829999999994, 'Solodex Exfolear Cleansing Gel 200ml': 56709.85, 'Frost Roll On 60ml': 54450.619999999995, 'Rego Hair Lotion 120ml': 53146.579999999994, 'Orovex Orange 120ml': 51270.5, 'FROST MASSAGER 100': 48753.36, 'Verdex prime - Hair Forte Shampoo 200ml': 48506.109999999986, 'FROST MASSAGER 150': 46141.619999999995, 'Atrakta Delicate shampoo 200ml': 44781.34, 'Ouchy Lamore': 36684.64, 'Orovex-Smokers 250ml': 33385.06, 'Verdex prime - Laser Post 50ml': 32914.200000000004, 'Solodex Hydractiv Lip Balm SPF 15+ 12gm': 32591.93, 'Frost max': 30158.110000000004, 'Solodex Roots Mask 150gm': 28644.220000000005, 'Marvel Cream 50gm': 26431.489999999998, 'Atrakta Delicate shampoo 400ml': 25846.25, 'Synobar Spot Gel 20ml': 25554.92, 'Solodex Hydractiv Urea Cream 200gm': 24863.569999999996, 'Solodex Hydractiv Lip Balm 12gm': 24852.590000000004, 'Vividol Growth Lotion Activator 150ml': 23853.18, 'Solodex Anti-Age Eye Contour Cream Gel 15gm': 23383.63, 'Verdex Offer-Hair F Lotion 200ml+5': 21979.100000000002, 'Solodex Roots Shampoo 200ml': 20187.539999999997, 'Solodex Anti-Age Serum 30ml': 17266.630000000005, 'Solodex Hydractiv Cleanser 200ml': 16430.86, 'Verdex Offer-Eye Contour Aid + 50%': 15873.519999999997, 'Verdex Offer - Alba serum 30ml+ 50': 13926.36, 'Solodex Anti-Dandruff Lotion 50ml': 10220.56, 'Solodex Whiteactiv Cream 30gm': 10062.66, 'Orovex Green Apple 120ml': 9245.5, 'Denton Peppermint': 8989.409999999998, 'Solodex Anti-Dandruff Shampoo 200ml': 7587.129999999999, 'Denton Clove': 5674.93, 'Verdex Offer - Laser Post 50ml+ 50': 4000.0, 'Vividol Hair oil 120ml': 3276.17, 'Verdex - Atopica Cream 100ml': 2897.01, 'Verdex Offer - Sypo Clear 50ml+ 50': 2894.7000000000007, 'Frost cold patch': 2716.8999999999996, 'Verdex - Hair Forte Ampoules 12 fl*5ml': 1535.1, 'Verdex - Sun Off Adult 50gm': 1505.02, 'Scaro Sheets': 882.06, 'Verdex - Laser Post 50ml': 872.1199999999999, 'Octenidine Mouthwash (250ml)': 840.6, 'Orovex Banana 120ml': 840.5, 'Orovex Strawberry 120ml': 840.5, 'Verdex - Sypo Clear 50ml': 715.4, 'Verdex - Alba serum 50ml': 643.8100000000001, 'Octenidine Oral spray (120ml)': 504.4, 'Verdex - Hair Forte Shampoo 200ml': 425.65999999999997, 'Cordo Hand Gel 60ml': 399.13, 'Verdex - Hair Forte Cream 100ml': 294.96000000000004, 'Verdex - Sun Off Junior 50gm': 271.4, 'VAKTER 60 ML D': 224.2, 'Verdex - Alba cream 50ml': 201.2, 'Verdex - Eye Contour Aid 50ml': 195.62, 'Revi 2 Cream 30gm': -10.62, 'Geskan Spray 100ml': -13.87, 'Evirinse Cleanser 250ml': -41.36, 'Synobar Soap 75 gm': -49.2, 'Atrkta offer (Mask+Shampoo) dander-off': -187.89, 'Reto plus Soap 125gm': -193.50000000000006, 'Neo Nail Cream 50gm': -313.92999999999995, 'Vividol Hair Cream 50gm': -335.59000000000003, 'Atrakta Ampoules+Shampoo Offer': -341.22, 'Zonex Soap 100gm': -413.74000000000007, 'Verdex - Hair Forte Lotion 200ml': -456.14, 'Atrakta - BI- Phase Spray + 50% BI- Phase Sp': -473.68, 'Atrakta - Re-Force Serum + 50% Re-Force Se': -505.26, 'Seta Cream 50gm': -592.99, 'Serio Skin Lotion120ml': -632.7700000000001, 'Gold Direct Use 250ml': -653.8999999999999, 'Kenara Thyme 250ml': -853.6300000000001, 'Sono Soap 100gm': -899.1000000000001, 'Titan Hair Lotion 120ml': -969.96, 'Titan Hair Lotion 250ml': -1094.79, 'Neo Nail Plus Cream 50gm': -1119.0299999999997, 'Care by Care jar 300g': -1407.89, 'Frost Spray 100ml': -1555.19, 'Tritect Hand Wash 250ml': -2181.5900000000006, 'Care by Care Lotion 100ml': -2190.1999999999994, 'Rego Cream 50gm': -2340.6, 'Carno Cream 50gm': -2845.8300000000004, 'Verdex Offer - Sypo Clear 50ml': -3180.35, 'Prote Care Cream 50gm': -5250.739999999998, 'Verdex Offer - Verdex - Eye Contour Aid 15ml': -7021.0599999999995, 'Vividol Hair oil 250ml': -8745.999999999996, 'Verdex Offer - Verdex - Hair Forte Lotion 200ml': -9094.74, 'Verdex Offer - Alba cream 50ml': -12214.029999999999, 'Verdex Offer - Laser Post 50ml': -14000.0, 'Tress Follicle Booster Shampoo 150ml': -97275.11000000004}\n"
          ]
        }
      ]
    },
    {
      "cell_type": "code",
      "source": [
        "for i in range (10):\n",
        "  print(list(sort_data_dict.items())[i])"
      ],
      "metadata": {
        "colab": {
          "base_uri": "https://localhost:8080/"
        },
        "id": "sOTCgCaEBAx9",
        "outputId": "11c4ef6e-9133-466f-dcbb-e94e4b3f5d9d"
      },
      "execution_count": null,
      "outputs": [
        {
          "output_type": "stream",
          "name": "stdout",
          "text": [
            "('Orovex Peppermint 250ml', 5001567.81)\n",
            "('Gold Plus Cleanser 250ml', 3937879.9700000007)\n",
            "('Scaro Gel 50gm', 3346304.41)\n",
            "('Frost Massage Spray 100ml', 2717577.08)\n",
            "('Synobar Skin cleanser 250ml', 2679505.59)\n",
            "('Orovex Clove 250ml', 2183120.55)\n",
            "('Dermocalm Lotion 120ml', 2142031.97)\n",
            "('Bringo Lotion 120ml', 2133319.46)\n",
            "('Natry Soap 100gm', 1913797.6099999999)\n",
            "('Care by Care Cream 100gm', 1847981.21)\n"
          ]
        }
      ]
    },
    {
      "cell_type": "code",
      "source": [
        "prod = [value for value in list(sort_data_dict.items()) if value[1] >0]"
      ],
      "metadata": {
        "id": "zN0rxJIZBOzP"
      },
      "execution_count": null,
      "outputs": []
    },
    {
      "cell_type": "code",
      "source": [
        "prod[-10:][::-1]"
      ],
      "metadata": {
        "colab": {
          "base_uri": "https://localhost:8080/"
        },
        "id": "XWw7l5noNO2a",
        "outputId": "276643fa-df9a-4522-a929-ee5bdb96b0b3"
      },
      "execution_count": null,
      "outputs": [
        {
          "output_type": "execute_result",
          "data": {
            "text/plain": [
              "[('Verdex - Eye Contour Aid 50ml', 195.62),\n",
              " ('Verdex - Alba cream 50ml', 201.2),\n",
              " ('VAKTER 60 ML D', 224.2),\n",
              " ('Verdex - Sun Off Junior 50gm', 271.4),\n",
              " ('Verdex - Hair Forte Cream 100ml', 294.96000000000004),\n",
              " ('Cordo Hand Gel 60ml', 399.13),\n",
              " ('Verdex - Hair Forte Shampoo 200ml', 425.65999999999997),\n",
              " ('Octenidine Oral spray (120ml)', 504.4),\n",
              " ('Verdex - Alba serum 50ml', 643.8100000000001),\n",
              " ('Verdex - Sypo Clear 50ml', 715.4)]"
            ]
          },
          "metadata": {},
          "execution_count": 22
        }
      ]
    },
    {
      "cell_type": "markdown",
      "source": [
        "#**$\\color{skyblue}{\\text{Top 10 Products}}$**\n"
      ],
      "metadata": {
        "id": "UIMgfYuBBUTI"
      }
    },
    {
      "cell_type": "markdown",
      "source": [
        "\"Orovex Peppermint 250ml\" => 5001567.81 revenue\n",
        "\n",
        "\"Gold Plus Cleanser 250ml\" =>  3937879.97 revenue\n",
        "\n",
        "\"Scaro Gel 50gm\" =>  3346304.41\n",
        " revenue\n",
        "\n",
        "\"Frost Massage Spray 100ml\" =>   2717577.08 revenue\n",
        "\n",
        "\"Synobar Skin cleanser 250ml\" =>   2679505.59 revenue\n",
        "\n",
        "\"Orovex Clove 250ml\"=> 2183120.55  revenue\n",
        "\n",
        "\n",
        "\"Dermocalm Lotion 120ml\"=> 2142031.97  revenue\n",
        "\n",
        "\n",
        "\"Bringo Lotion 120ml\"=> 2133319.46  revenue\n",
        "\n",
        "\n",
        "\"Natry Soap 100gm\"=> 1913797.61  revenue\n",
        "\n",
        "\n",
        "\"are by Care Cream 100gm\"=> 1847981.21  revenue\n",
        "\n",
        "\n",
        "\n",
        "\n",
        "\n",
        "\n",
        "\n"
      ],
      "metadata": {
        "id": "t7a72q70BcPn"
      }
    },
    {
      "cell_type": "markdown",
      "source": [
        "#**$\\color{skyblue}{\\text{Lowest 10 Products}}$**\n"
      ],
      "metadata": {
        "id": "4P34ezn_Df7_"
      }
    },
    {
      "cell_type": "markdown",
      "source": [
        "\"Verdex - Eye Contour Aid 50ml\" => 195.62\n",
        "\n",
        " \"Verdex - Alba cream 50ml\" => 201.2\n",
        " \n",
        " \"VAKTER 60 ML D\" => 224.2\n",
        " \n",
        " \"Verdex - Sun Off Junior 50gm\" => 271.4\n",
        " \n",
        " \"Verdex - Hair Forte Cream 100ml\" => 294.96\n",
        " \n",
        " \"Cordo Hand Gel 60ml\" => 399.13\n",
        " \n",
        " \"Verdex - Hair Forte Shampoo 200ml\" => 425.659\n",
        " \n",
        " \"Octenidine Oral spray (120ml)\" => 504.4\n",
        " \n",
        " \"Verdex - Alba serum 50ml\" => 643.81\n",
        " \n",
        " \"Verdex - Sypo Clear 50ml\" => 715.4"
      ],
      "metadata": {
        "id": "dKGdEEkWOhFQ"
      }
    },
    {
      "cell_type": "code",
      "source": [
        "Districts_Names = {}\n",
        "\n",
        "for District in df[\"District Name\"]:  \n",
        "  if District not in Districts_Names:\n",
        "    filtered_Sales = df[df['District Name']== District ][\"SALES_VALUES\"].sum()\n",
        "    Districts_Names[District] = filtered_Sales"
      ],
      "metadata": {
        "id": "AmodjdPNQG2n"
      },
      "execution_count": null,
      "outputs": []
    },
    {
      "cell_type": "code",
      "source": [
        "sort_data = sorted(Districts_Names.items(), key=lambda x: x[1], reverse=True)\n",
        "sort_data_dict = dict(sort_data)\n",
        "list(sort_data_dict.items())[:5]"
      ],
      "metadata": {
        "colab": {
          "base_uri": "https://localhost:8080/"
        },
        "id": "_LxHHqcoRWMx",
        "outputId": "44b12c75-76b3-4d2d-8be9-164af40028da"
      },
      "execution_count": null,
      "outputs": [
        {
          "output_type": "execute_result",
          "data": {
            "text/plain": [
              "[('M7_Delta 1', 3669948.5300000003),\n",
              " ('M2_Cairo East', 3389894.07),\n",
              " ('OTC_DM Delta', 3275675.06),\n",
              " ('M2_Alex Zone', 3167995.3399999994),\n",
              " ('M5_Delta West', 2766359.4199999995)]"
            ]
          },
          "metadata": {},
          "execution_count": 24
        }
      ]
    },
    {
      "cell_type": "markdown",
      "source": [
        "\n",
        "#**$\\color{skyblue}{\\text{Top 5 District}}$**\n",
        "\n",
        "\n"
      ],
      "metadata": {
        "id": "QSPhHyUTSa7-"
      }
    },
    {
      "cell_type": "markdown",
      "source": [
        "\"M7_Delta 1\" => 3669948.53\n",
        "\n",
        " \"M2_Cairo East\" => 3389894.07\n",
        "\n",
        " \"OTC_DM Delta\" => 3275675.06\n",
        "\n",
        " \"M2_Alex Zone\" => 3167995.34\n",
        " \n",
        " \"M5_Delta West\" => 2766359.42"
      ],
      "metadata": {
        "id": "l8-iknJLSl0N"
      }
    },
    {
      "cell_type": "code",
      "source": [
        "Medical_rep = {}\n",
        "\n",
        "for rep in df[\"REP Territory Name\"].unique():  \n",
        "  filtered_Sales = df[df['REP Territory Name']== rep ][\"SALES_VALUES\"].sum()\n",
        "  Medical_rep[rep] = filtered_Sales\n",
        "\n",
        "sort_data = sorted(Medical_rep.items(), key=lambda x: x[1], reverse=True)\n",
        "sort_data_dict = dict(sort_data)\n",
        "list(sort_data_dict.items())[:5]"
      ],
      "metadata": {
        "colab": {
          "base_uri": "https://localhost:8080/"
        },
        "id": "njhidUM7W_Zh",
        "outputId": "15c1d3cc-a60c-4965-87c3-f473e9f3e189"
      },
      "execution_count": null,
      "outputs": [
        {
          "output_type": "execute_result",
          "data": {
            "text/plain": [
              "[('M2_Heliopolis - Zaytoun', 3174139.93),\n",
              " ('M2_Behara South', 2827718.9499999997),\n",
              " ('M7_Gharbia 1', 2076710.23),\n",
              " ('M1_Dakahlia 1', 1941026.57),\n",
              " ('M3_Gharbia 1', 1863889.09)]"
            ]
          },
          "metadata": {},
          "execution_count": 25
        }
      ]
    },
    {
      "cell_type": "markdown",
      "source": [
        "\n",
        "#**$\\color{skyblue}{\\text{Top 5 Medical Rep}}$**\n",
        "\n",
        "\n"
      ],
      "metadata": {
        "id": "o1QjozsUWY2o"
      }
    },
    {
      "cell_type": "markdown",
      "source": [
        "\"M2_Heliopolis - Zaytoun => 3174139.93\n",
        "\n",
        " \"M2_Behara South => 2827718.95\n",
        " \n",
        " \"M7_Gharbia 1 => 2076710.23\n",
        " \n",
        " \"M1_Dakahlia 1 => 1941026.57\n",
        " \n",
        " \"M3_Gharbia 1 => 1863889.09"
      ],
      "metadata": {
        "id": "P3S2qPUNWkmd"
      }
    },
    {
      "cell_type": "code",
      "source": [
        "Cities = {}\n",
        "\n",
        "for City in df[\"CITY\"].unique():  \n",
        "  filtered_Sales = df[df['CITY']== City ][\"SALES_VALUES\"].sum()\n",
        "  Cities[City] = filtered_Sales\n",
        "\n",
        "sort_data = sorted(Cities.items(), key=lambda x: x[1], reverse=True)\n",
        "sort_data_dict = dict(sort_data)\n",
        "list(sort_data_dict.items())[:5]"
      ],
      "metadata": {
        "colab": {
          "base_uri": "https://localhost:8080/"
        },
        "id": "iVI-7kj3X-2D",
        "outputId": "e3ebe1bf-03c6-405f-c08f-a53d0106316e"
      },
      "execution_count": null,
      "outputs": [
        {
          "output_type": "execute_result",
          "data": {
            "text/plain": [
              "[('القاهره', 15347563.058000002),\n",
              " ('الدقهليه', 12836442.09),\n",
              " ('الغربيه', 12358264.177),\n",
              " ('الجيزه', 7852025.577),\n",
              " ('البحيره', 4390424.079999999)]"
            ]
          },
          "metadata": {},
          "execution_count": 36
        }
      ]
    },
    {
      "cell_type": "markdown",
      "source": [
        "#**$\\color{skyblue}{\\text{Top 5 Cities}}$**"
      ],
      "metadata": {
        "id": "qr24jK1LdNla"
      }
    },
    {
      "cell_type": "markdown",
      "source": [
        "القاهره\" 15347563.058000002\"\n",
        "\n",
        " الدقهليه\" 12836442.09\"\n",
        "\n",
        " الغربيه\" 12358264.177\"\n",
        "\n",
        " الجيزه\" 7852025.577\"\n",
        " \n",
        " البحيره\" 4390424.079999999"
      ],
      "metadata": {
        "id": "m6l0dbmoeHjE"
      }
    },
    {
      "cell_type": "code",
      "source": [
        "MACRO_BRICKS_NAME = {}\n",
        "\n",
        "for BRICKS in df[\"MACRO_BRICKS_NAME\"].unique():  \n",
        "  filtered_Sales = df[df['MACRO_BRICKS_NAME']== BRICKS ][\"SALES_VALUES\"].sum()\n",
        "  MACRO_BRICKS_NAME[BRICKS] = filtered_Sales\n",
        "\n",
        "sort_data = sorted(MACRO_BRICKS_NAME.items(), key=lambda x: x[1], reverse=True)\n",
        "sort_data_dict = dict(sort_data)\n",
        "list(sort_data_dict.items())[:5]"
      ],
      "metadata": {
        "colab": {
          "base_uri": "https://localhost:8080/"
        },
        "id": "y9TlxlTZeiVM",
        "outputId": "1acf0ea2-3f49-4401-8a3e-a2bc5ecbef14"
      },
      "execution_count": null,
      "outputs": [
        {
          "output_type": "execute_result",
          "data": {
            "text/plain": [
              "[('Gharbia 1', 9890581.200000001),\n",
              " ('Dakahlia 3', 6289635.580000001),\n",
              " ('Heliopolis 4', 5802062.45),\n",
              " ('Dakahlia 1', 5008817.45),\n",
              " ('Heliopolis 3', 3395234.6299999994)]"
            ]
          },
          "metadata": {},
          "execution_count": 39
        }
      ]
    },
    {
      "cell_type": "markdown",
      "source": [
        "#**$\\color{skyblue}{\\text{Top 5 Macro Bricks}}$**"
      ],
      "metadata": {
        "id": "IvoC-9YjgQBU"
      }
    },
    {
      "cell_type": "markdown",
      "source": [
        "\"Gharbia 1\" => 9890581.2\n",
        "\n",
        " \"Dakahlia 3\" => 6289635.58\n",
        "\n",
        " \"Heliopolis\" 4 => 5802062.45\n",
        "\n",
        " \"Dakahlia 1\" => 5008817.45\n",
        "\n",
        " \"Heliopolis 3\" => 3395234.6"
      ],
      "metadata": {
        "id": "qG4hwqQMgNuR"
      }
    },
    {
      "cell_type": "code",
      "source": [
        "area_names = {}\n",
        "\n",
        "for area in df[\"Area Name\"].unique():  \n",
        "  filtered_Sales = df[df['Area Name']== area ][\"SALES_VALUES\"].sum()\n",
        "  area_names[area] = filtered_Sales\n",
        "\n",
        "sort_data = sorted(area_names.items(), key=lambda x: x[1], reverse=True)\n",
        "sort_data_dict = dict(sort_data)\n",
        "list(sort_data_dict.items())[:5]"
      ],
      "metadata": {
        "colab": {
          "base_uri": "https://localhost:8080/"
        },
        "id": "-adM-MYpgpg6",
        "outputId": "b7e35a3e-c34e-4bd2-dcae-9c57bdb827e4"
      },
      "execution_count": null,
      "outputs": [
        {
          "output_type": "execute_result",
          "data": {
            "text/plain": [
              "[('OTC AREA', 9200588.695),\n",
              " ('M7_NA', 7097652.1),\n",
              " ('M1_Delta Zone', 5779142.340000001),\n",
              " ('M1_Cairo Zone', 4319688.417),\n",
              " ('M2_Cairo Zone', 4173713.34)]"
            ]
          },
          "metadata": {},
          "execution_count": 40
        }
      ]
    },
    {
      "cell_type": "markdown",
      "source": [
        "#**$\\color{skyblue}{\\text{Top 5 Areas}}$**"
      ],
      "metadata": {
        "id": "FTl8B95chThq"
      }
    },
    {
      "cell_type": "markdown",
      "source": [
        "\"OTC AREA\" => 9200588.695\n",
        "\n",
        "\"M7_NA\" => 7097652.1\n",
        "\n",
        "\"M1_Delta Zone\" => 5779142.34\n",
        "\n",
        "\"M1_Cairo Zone\" => 4319688.417\n",
        "\n",
        "\"M2_Cairo Zone\" => 4173713.34"
      ],
      "metadata": {
        "id": "PhyIBOv6h1ZD"
      }
    },
    {
      "cell_type": "code",
      "source": [
        "brands = {}\n",
        "\n",
        "for brand in df[\"BRAND\"].unique():  \n",
        "  filtered_Sales = df[df['BRAND']== brand ][\"SALES_VALUES\"].sum()\n",
        "  brands[brand] = filtered_Sales\n",
        "\n",
        "sort_data = sorted(brands.items(), key=lambda x: x[1], reverse=True)\n",
        "sort_data_dict = dict(sort_data)\n",
        "list(sort_data_dict.items())[:3]"
      ],
      "metadata": {
        "colab": {
          "base_uri": "https://localhost:8080/"
        },
        "id": "lVlUNBqeh7j3",
        "outputId": "684989b4-c938-453f-8150-695c739fc7f0"
      },
      "execution_count": null,
      "outputs": [
        {
          "output_type": "execute_result",
          "data": {
            "text/plain": [
              "[('OROVEX', 11422186.360000001),\n",
              " ('SCARO', 4927506.43),\n",
              " ('FROST', 4557913.109999999)]"
            ]
          },
          "metadata": {},
          "execution_count": 41
        }
      ]
    },
    {
      "cell_type": "markdown",
      "source": [
        "#**$\\color{skyblue}{\\text{Top 5 Brands}}$**"
      ],
      "metadata": {
        "id": "49UYFbIenbL5"
      }
    },
    {
      "cell_type": "markdown",
      "source": [
        "\"OROVEX => 11422186.36\n",
        "\n",
        " \"SCARO => 4927506.43\n",
        " \n",
        " \"FROST => 4557913.11"
      ],
      "metadata": {
        "id": "G65DA2hSnh7V"
      }
    }
  ]
}